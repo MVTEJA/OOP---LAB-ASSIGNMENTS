{
  "nbformat": 4,
  "nbformat_minor": 0,
  "metadata": {
    "colab": {
      "name": "Lab3.ipynb",
      "provenance": []
    },
    "kernelspec": {
      "name": "python3",
      "display_name": "Python 3"
    },
    "language_info": {
      "name": "python"
    }
  },
  "cells": [
    {
      "cell_type": "code",
      "metadata": {
        "colab": {
          "base_uri": "https://localhost:8080/",
          "height": 0
        },
        "id": "oX2fV_Xflqj0",
        "outputId": "e604fb16-13cb-4a89-8711-3672d9fd2c14"
      },
      "source": [
        "#1.\n",
        "\n",
        "class Student:\n",
        "\n",
        "  def __init__(self , Name , Reg_no , Age , Gender , Branch , Sem):\n",
        "\n",
        "    self.Name = Name \n",
        "    self.Age = Age\n",
        "    self.Gender = Gender\n",
        "    self.Branch = Branch\n",
        "    self.Sem = Sem \n",
        "  \n",
        "  def basic_info(self):\n",
        "\n",
        "    print(f\"Name : {self.Name} ,  Age : {self.Age} , Gender : {self.Gender} ,  Branch : {self.Branch} ,  Sem : {self.Sem}\\n\" )\n",
        "\n",
        "\n",
        "class Student_Result_Info(Student):\n",
        "\n",
        "  def __init__(self ,  Name , Reg_no , Age , Gender , Branch , Sem , Total_marks , Percentage , Grade):\n",
        "    super().__init__( Name  , Reg_no , Age , Gender , Branch , Sem)\n",
        "    self.Total_marks = Total_marks\n",
        "    self.Percentage  = Percentage\n",
        "    self.Grade       = Grade\n",
        "\n",
        "  def result_info(self):\n",
        "    print(f\"Name : {self.Name} ,  Age : {self.Age} , Gender : {self.Gender} ,  Branch : {self.Branch} ,  Sem : {self.Sem}\")\n",
        "    print(f\"Total marks : {self.Total_marks} , Percentage : {self.Percentage} , Grade : {self.Grade}\")\n",
        "\n",
        "\n",
        "stu1 = Student(\"VishnuTeja\" , \"20bcs084\" , 19 , \"Male\" , \"CSE\" , 3)\n",
        "stu1.basic_info()\n",
        "\n",
        "stu2 = Student_Result_Info(\"VishnuTeja\" , \"20bcs084\" , 19 , \"Male\" , \"CSE\" , 3 , 295 , 99 , 'A')\n",
        "stu2.result_info()\n",
        "\n",
        "  "
      ],
      "execution_count": 12,
      "outputs": [
        {
          "output_type": "stream",
          "name": "stdout",
          "text": [
            "Name : VishnuTeja ,  Age : 19 , Gender : Male ,  Branch : CSE ,  Sem : 3\n",
            "\n",
            "Name : VishnuTeja ,  Age : 19 , Gender : Male ,  Branch : CSE ,  Sem : 3\n",
            "Total marks : 295 , Percentage : 99 , Grade : A\n"
          ]
        }
      ]
    },
    {
      "cell_type": "code",
      "metadata": {
        "colab": {
          "base_uri": "https://localhost:8080/",
          "height": 0
        },
        "id": "-ln50hQD6iGZ",
        "outputId": "6773a7d6-71c4-4c60-aa52-d10b9edd16f6"
      },
      "source": [
        "\n",
        "#2.\n",
        "\n",
        "class Content_Management_System:\n",
        "\n",
        "  def __init__(self , who_created , description , file_size):\n",
        "    self.who_created = who_created\n",
        "    self.description = description\n",
        "    self.file_size   = file_size\n",
        "\n",
        "  def check_size_file(self):\n",
        "    if(self.file_size >= 100):\n",
        "      print(\"file size is beyond limit\\n\")\n",
        "\n",
        "  def dimensions(self):\n",
        "    if(self.image_dimensions[0] and self.image_dimensions[1]  >= 100):\n",
        "      print(\"Too high of dimension\\n\")\n",
        "\n",
        "  def Display_Details(self):\n",
        "    print(f\"who created : {self.who_created} , description : {self.description} , filesize : {self.file_size}\\n\")\n",
        "  \n",
        "  \n",
        "class PDFs(Content_Management_System):\n",
        "\n",
        "  def __init__(self , who_created , description , file_size):\n",
        "    super().__init__(who_created , description , file_size)\n",
        "\n",
        "\n",
        "class Pictures(Content_Management_System):\n",
        "\n",
        "  def __init__(self , who_created , description , file_size , image_dimensions):\n",
        "    super().__init__(who_created , description , file_size)\n",
        "    self.image_dimensions = image_dimensions\n",
        "\n",
        "\n",
        "p1 = PDFs(\"VishnuTeja\" , \"OOP CONCEPTS\" , 110)\n",
        "p1.check_size_file()\n",
        "p1.Display_Details()\n",
        "\n",
        "p2 = Pictures(\"MVTEJA\" , \"IMAGE FILE\" , 80 ,  [110 , 29])\n",
        "p2.dimensions()\n",
        "p2.Display_Details()\n",
        "\n"
      ],
      "execution_count": 31,
      "outputs": [
        {
          "output_type": "stream",
          "name": "stdout",
          "text": [
            "file size is beyond limit\n",
            "\n",
            "who created : VishnuTeja , description : OOP CONCEPTS , filesize : 110\n",
            "\n",
            "who created : MVTEJA , description : IMAGE FILE , filesize : 80\n",
            "\n"
          ]
        }
      ]
    },
    {
      "cell_type": "code",
      "metadata": {
        "colab": {
          "base_uri": "https://localhost:8080/",
          "height": 0
        },
        "id": "G9S0aWte6iSJ",
        "outputId": "e72feb5a-8e10-4f35-dd32-cf3e413beff2"
      },
      "source": [
        "#3.\n",
        "\n",
        "class Vehicle:\n",
        "\n",
        "  def __init__(self , name , mileage , capacity):\n",
        "    self.name = name \n",
        "    self.mileage = mileage\n",
        "    self.capacity = capacity\n",
        "\n",
        "  def bus_fare(self):\n",
        "    print(self.capacity * 100)\n",
        "\n",
        "class Bus(Vehicle):\n",
        "\n",
        "  def __init__(self , name , mileage , capacity):\n",
        "    super().__init__(name , mileage , capacity)\n",
        "\n",
        "  def total_fare(self):\n",
        "    print(self.capacity * 100  + 0.1 * (self.capacity * 100))\n",
        "\n",
        "\n",
        "veh1 = Bus(\"tata\" , 250 , 50)\n",
        "veh1.total_fare()\n",
        "\n",
        "\n",
        "\n"
      ],
      "execution_count": 23,
      "outputs": [
        {
          "output_type": "stream",
          "name": "stdout",
          "text": [
            "5500.0\n"
          ]
        }
      ]
    }
  ]
}
